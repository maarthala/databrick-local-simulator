{
 "cells": [
  {
   "cell_type": "code",
   "execution_count": null,
   "id": "2b3c0c6a-cd8b-497a-902a-b2751ed419f0",
   "metadata": {},
   "outputs": [],
   "source": [
    "from pyspark.sql import SparkSession\n",
    "\n",
    "# Initialize SparkSession with Hive support and S3A configs\n",
    "\"\"\"\n",
    "All required configs are stored in /configs/spark/spark-defaults.conf.\n",
    "To Override, use .config() ex: .config(\"spark.hadoop.fs.s3a.access.key\", \"test\")\n",
    "\n",
    "\"\"\"\n",
    "spark = SparkSession.builder \\\n",
    "    .appName(\"Spark S3 Parquet Hive Table Example\") \\\n",
    "    .enableHiveSupport() \\\n",
    "    .getOrCreate()\n",
    "\n",
    "print(\"Hadoop version:\", spark.sparkContext._jvm.org.apache.hadoop.util.VersionInfo.getVersion())\n"
   ]
  },
  {
   "cell_type": "code",
   "execution_count": null,
   "id": "e26cb3d5-0d39-458d-b43f-cfd4d47feecd",
   "metadata": {},
   "outputs": [],
   "source": [
    "\n",
    "# spark.sql(\"DESCRIBE FORMATTED default.northwind_orders\").show(truncate=False)\n",
    "\n",
    "# Path to your Parquet data in S3\n",
    "parquet_path = \"s3a://demo-bucket/northwind/order_details.parquet\"  # Change to your actual folder\n",
    "\n",
    "# Read the Parquet file(s)\n",
    "df = spark.read.parquet(parquet_path)\n",
    "\n",
    "# Show the DataFrame (optional, for verification)\n",
    "df.show()\n",
    "\n"
   ]
  },
  {
   "cell_type": "code",
   "execution_count": null,
   "id": "a804cbb6-5b74-45af-ad93-6243e3f54edb",
   "metadata": {},
   "outputs": [],
   "source": [
    "\n",
    "# Write as a Hive table (metadata goes to Hive Metastore, data stays in S3)\n",
    "df.write.mode(\"overwrite\").saveAsTable(\"default.northwind_orders\")\n",
    "\n",
    "# Query the table to verify\n",
    "result = spark.sql(\"SELECT * FROM default.northwind_orders\")\n",
    "result.show()\n",
    "\n"
   ]
  },
  {
   "cell_type": "code",
   "execution_count": null,
   "id": "a638f8d3-0a76-4731-b7f6-839f9f3e1316",
   "metadata": {},
   "outputs": [],
   "source": [
    "# Stop the Spark session\n",
    "spark.stop()"
   ]
  }
 ],
 "metadata": {
  "kernelspec": {
   "display_name": "Python 3 (ipykernel)",
   "language": "python",
   "name": "python3"
  },
  "language_info": {
   "codemirror_mode": {
    "name": "ipython",
    "version": 3
   },
   "file_extension": ".py",
   "mimetype": "text/x-python",
   "name": "python",
   "nbconvert_exporter": "python",
   "pygments_lexer": "ipython3",
   "version": "3.10.11"
  }
 },
 "nbformat": 4,
 "nbformat_minor": 5
}
