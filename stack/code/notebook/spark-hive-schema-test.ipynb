{
 "cells": [
  {
   "cell_type": "code",
   "execution_count": 1,
   "id": "2b3c0c6a-cd8b-497a-902a-b2751ed419f0",
   "metadata": {},
   "outputs": [
    {
     "name": "stderr",
     "output_type": "stream",
     "text": [
      "WARNING: Using incubator modules: jdk.incubator.vector\n",
      "Warning: Ignoring non-Spark config property: fs.s3a.threads.keepalivetime\n",
      "Warning: Ignoring non-Spark config property: fs.s3a.multipart.purge.age\n",
      "Using Spark's default log4j profile: org/apache/spark/log4j2-defaults.properties\n",
      "Setting default log level to \"WARN\".\n",
      "To adjust logging level use sc.setLogLevel(newLevel). For SparkR, use setLogLevel(newLevel).\n",
      "25/07/01 06:54:40 WARN NativeCodeLoader: Unable to load native-hadoop library for your platform... using builtin-java classes where applicable\n"
     ]
    },
    {
     "name": "stdout",
     "output_type": "stream",
     "text": [
      "Hadoop version: 3.4.1\n"
     ]
    }
   ],
   "source": [
    "from pyspark.sql import SparkSession\n",
    "\n",
    "# Initialize SparkSession with Hive support and S3A configs\n",
    "\"\"\"\n",
    "All required configs are stored in /configs/spark/spark-defaults.conf.\n",
    "To Override, use .config() ex: .config(\"spark.hadoop.fs.s3a.access.key\", \"test\")\n",
    "\n",
    "\"\"\"\n",
    "spark = SparkSession.builder \\\n",
    "    .appName(\"Spark S3 Parquet Hive Table Example\") \\\n",
    "    .enableHiveSupport() \\\n",
    "    .getOrCreate()\n",
    "\n",
    "print(\"Hadoop version:\", spark.sparkContext._jvm.org.apache.hadoop.util.VersionInfo.getVersion())\n"
   ]
  },
  {
   "cell_type": "code",
   "execution_count": 2,
   "id": "e26cb3d5-0d39-458d-b43f-cfd4d47feecd",
   "metadata": {},
   "outputs": [
    {
     "name": "stderr",
     "output_type": "stream",
     "text": [
      "25/07/01 06:54:54 WARN MetricsConfig: Cannot locate configuration: tried hadoop-metrics2-s3a-file-system.properties,hadoop-metrics2.properties\n",
      "SLF4J: Failed to load class \"org.slf4j.impl.StaticLoggerBinder\".\n",
      "SLF4J: Defaulting to no-operation (NOP) logger implementation\n",
      "SLF4J: See http://www.slf4j.org/codes.html#StaticLoggerBinder for further details.\n",
      "[Stage 1:>                                                          (0 + 1) / 1]\r"
     ]
    },
    {
     "name": "stdout",
     "output_type": "stream",
     "text": [
      "+-------+---------+---------+--------+--------+\n",
      "|OrderID|ProductID|UnitPrice|Quantity|Discount|\n",
      "+-------+---------+---------+--------+--------+\n",
      "|  10248|       11|     14.0|      12|     0.0|\n",
      "|  10248|       42|      9.8|      10|     0.0|\n",
      "|  10248|       72|     34.8|       5|     0.0|\n",
      "|  10249|       14|     18.6|       9|     0.0|\n",
      "|  10249|       51|     42.4|      40|     0.0|\n",
      "|  10250|       41|      7.7|      10|     0.0|\n",
      "|  10250|       51|     42.4|      35|    0.15|\n",
      "|  10250|       65|     16.8|      15|    0.15|\n",
      "|  10251|       22|     16.8|       6|    0.05|\n",
      "|  10251|       57|     15.6|      15|    0.05|\n",
      "|  10251|       65|     16.8|      20|     0.0|\n",
      "|  10252|       20|     64.8|      40|    0.05|\n",
      "|  10252|       33|      2.0|      25|    0.05|\n",
      "|  10252|       60|     27.2|      40|     0.0|\n",
      "|  10253|       31|     10.0|      20|     0.0|\n",
      "|  10253|       39|     14.4|      42|     0.0|\n",
      "|  10253|       49|     16.0|      40|     0.0|\n",
      "|  10254|       24|      3.6|      15|    0.15|\n",
      "|  10254|       55|     19.2|      21|    0.15|\n",
      "|  10254|       74|      8.0|      21|     0.0|\n",
      "+-------+---------+---------+--------+--------+\n",
      "only showing top 20 rows\n"
     ]
    },
    {
     "name": "stderr",
     "output_type": "stream",
     "text": [
      "                                                                                \r"
     ]
    }
   ],
   "source": [
    "\n",
    "# spark.sql(\"DESCRIBE FORMATTED default.northwind_orders\").show(truncate=False)\n",
    "\n",
    "# Path to your Parquet data in S3\n",
    "parquet_path = \"s3a://demo-bucket/northwind/order_details.parquet\"  # Change to your actual folder\n",
    "\n",
    "# Read the Parquet file(s)\n",
    "df = spark.read.parquet(parquet_path)\n",
    "\n",
    "# Show the DataFrame (optional, for verification)\n",
    "df.show()\n",
    "\n"
   ]
  },
  {
   "cell_type": "code",
   "execution_count": 3,
   "id": "a804cbb6-5b74-45af-ad93-6243e3f54edb",
   "metadata": {},
   "outputs": [
    {
     "name": "stderr",
     "output_type": "stream",
     "text": [
      "25/07/01 06:55:20 WARN SessionState: METASTORE_FILTER_HOOK will be ignored, since hive.security.authorization.manager is set to instance of HiveAuthorizerFactory.\n"
     ]
    },
    {
     "name": "stdout",
     "output_type": "stream",
     "text": [
      "+-------+---------+---------+--------+--------+\n",
      "|OrderID|ProductID|UnitPrice|Quantity|Discount|\n",
      "+-------+---------+---------+--------+--------+\n",
      "|  10248|       11|     14.0|      12|     0.0|\n",
      "|  10248|       42|      9.8|      10|     0.0|\n",
      "|  10248|       72|     34.8|       5|     0.0|\n",
      "|  10249|       14|     18.6|       9|     0.0|\n",
      "|  10249|       51|     42.4|      40|     0.0|\n",
      "|  10250|       41|      7.7|      10|     0.0|\n",
      "|  10250|       51|     42.4|      35|    0.15|\n",
      "|  10250|       65|     16.8|      15|    0.15|\n",
      "|  10251|       22|     16.8|       6|    0.05|\n",
      "|  10251|       57|     15.6|      15|    0.05|\n",
      "|  10251|       65|     16.8|      20|     0.0|\n",
      "|  10252|       20|     64.8|      40|    0.05|\n",
      "|  10252|       33|      2.0|      25|    0.05|\n",
      "|  10252|       60|     27.2|      40|     0.0|\n",
      "|  10253|       31|     10.0|      20|     0.0|\n",
      "|  10253|       39|     14.4|      42|     0.0|\n",
      "|  10253|       49|     16.0|      40|     0.0|\n",
      "|  10254|       24|      3.6|      15|    0.15|\n",
      "|  10254|       55|     19.2|      21|    0.15|\n",
      "|  10254|       74|      8.0|      21|     0.0|\n",
      "+-------+---------+---------+--------+--------+\n",
      "only showing top 20 rows\n"
     ]
    }
   ],
   "source": [
    "\n",
    "# Write as a Hive table (metadata goes to Hive Metastore, data stays in S3)\n",
    "df.write.mode(\"overwrite\").saveAsTable(\"default.northwind_orders1\")\n",
    "\n",
    "# Query the table to verify\n",
    "result = spark.sql(\"SELECT * FROM default.northwind_orders1\")\n",
    "result.show()\n",
    "\n"
   ]
  },
  {
   "cell_type": "code",
   "execution_count": 4,
   "id": "a638f8d3-0a76-4731-b7f6-839f9f3e1316",
   "metadata": {},
   "outputs": [],
   "source": [
    "# Stop the Spark session\n",
    "spark.stop()"
   ]
  }
 ],
 "metadata": {
  "kernelspec": {
   "display_name": "Python 3 (ipykernel)",
   "language": "python",
   "name": "python3"
  },
  "language_info": {
   "codemirror_mode": {
    "name": "ipython",
    "version": 3
   },
   "file_extension": ".py",
   "mimetype": "text/x-python",
   "name": "python",
   "nbconvert_exporter": "python",
   "pygments_lexer": "ipython3",
   "version": "3.10.11"
  }
 },
 "nbformat": 4,
 "nbformat_minor": 5
}
