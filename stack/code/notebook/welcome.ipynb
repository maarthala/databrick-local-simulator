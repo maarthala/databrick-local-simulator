{
 "cells": [
  {
   "cell_type": "code",
   "execution_count": null,
   "id": "b1da673d-5224-48dd-b66e-cd9d4f192bb1",
   "metadata": {},
   "outputs": [
    {
     "name": "stdout",
     "output_type": "stream",
     "text": [
      "Hello\n"
     ]
    }
   ],
   "source": [
    "print(\"Welcome to Northwind Dataengineering Practice Infrastructure!\")"
   ]
  },
  {
   "cell_type": "code",
   "execution_count": null,
   "id": "3680958b-028a-4ec7-a9a4-0b44d3c25d41",
   "metadata": {},
   "outputs": [],
   "source": []
  }
 ],
 "metadata": {
  "kernelspec": {
   "display_name": "Python 3 (ipykernel)",
   "language": "python",
   "name": "python3"
  },
  "language_info": {
   "codemirror_mode": {
    "name": "ipython",
    "version": 3
   },
   "file_extension": ".py",
   "mimetype": "text/x-python",
   "name": "python",
   "nbconvert_exporter": "python",
   "pygments_lexer": "ipython3",
   "version": "3.10.11"
  }
 },
 "nbformat": 4,
 "nbformat_minor": 5
}
